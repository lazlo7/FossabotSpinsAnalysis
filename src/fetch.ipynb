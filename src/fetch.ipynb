{
 "cells": [
  {
   "cell_type": "code",
   "execution_count": 1,
   "metadata": {},
   "outputs": [],
   "source": [
    "import requests\n",
    "from re import match\n",
    "import datetime"
   ]
  },
  {
   "cell_type": "code",
   "execution_count": 2,
   "metadata": {},
   "outputs": [],
   "source": [
    "url = \"https://logs.ivr.fi/channel/erobb221/user/fossabot/{year}/{month}?jsonBasic=True\"\n",
    "\n",
    "def fetch_logs(year: int, month: int):\n",
    "    r = requests.get(url.format(year=year, month=month))\n",
    "    if r.status_code == 404:\n",
    "        return None # return None if nothing is logged for this year&month.\n",
    "    if r.status_code != 200:\n",
    "        assert False, f\"Failed to fetch logs: {r.status_code}\"\n",
    "    return r.json()"
   ]
  },
  {
   "cell_type": "code",
   "execution_count": 3,
   "metadata": {},
   "outputs": [],
   "source": [
    "reply_pattern = r\"@(\\S+):\\s(\\S\\s\\S\\s\\S)\"\n",
    "\n",
    "def fetch_spins(year: int, month: int):\n",
    "    logs = fetch_logs(year, month)\n",
    "    if logs == None:\n",
    "        return None\n",
    "\n",
    "    messages = logs[\"messages\"]\n",
    "\n",
    "    res = []\n",
    "    for message in messages:\n",
    "        text = message[\"text\"]\n",
    "        m = match(reply_pattern, text)\n",
    "        if not m:\n",
    "            continue\n",
    "\n",
    "        spinner = m.group(1)\n",
    "        spin = \"\".join(m.group(2).split())\n",
    "        timestamp = message[\"timestamp\"]\n",
    "        res.append((spinner, spin, timestamp))\n",
    "    \n",
    "    return res"
   ]
  },
  {
   "cell_type": "code",
   "execution_count": 4,
   "metadata": {},
   "outputs": [],
   "source": [
    "def write_all_spins(filepath: str):\n",
    "    today = datetime.date.today()\n",
    "    year = today.year\n",
    "    month = today.month\n",
    "\n",
    "    with open(filepath, \"w\") as f:\n",
    "        f.write(\"Spinner,Spin,Timestamp\\n\")\n",
    "        while (spins := fetch_spins(year, month)) != None:\n",
    "            print(f\"Fetched {len(spins)} spins for {year}/{month}\")\n",
    "            f.writelines(\",\".join(spin) + \"\\n\" for spin in spins)\n",
    "            month -= 1\n",
    "            if month == 0:\n",
    "                month = 12\n",
    "                year -= 1"
   ]
  },
  {
   "cell_type": "code",
   "execution_count": 5,
   "metadata": {},
   "outputs": [
    {
     "name": "stdout",
     "output_type": "stream",
     "text": [
      "Fetched 13365 spins for 2023/10\n",
      "Fetched 13619 spins for 2023/9\n",
      "Fetched 22539 spins for 2023/8\n",
      "Fetched 35591 spins for 2023/7\n",
      "Fetched 25478 spins for 2023/6\n",
      "Fetched 22553 spins for 2023/5\n",
      "Fetched 34744 spins for 2023/4\n",
      "Fetched 32039 spins for 2023/3\n",
      "Fetched 19235 spins for 2023/2\n",
      "Fetched 22781 spins for 2023/1\n",
      "Fetched 16027 spins for 2022/12\n",
      "Fetched 13627 spins for 2022/11\n",
      "Fetched 7279 spins for 2022/10\n",
      "Fetched 5730 spins for 2022/9\n",
      "Fetched 21860 spins for 2022/8\n",
      "Fetched 9274 spins for 2022/7\n",
      "Fetched 12140 spins for 2022/6\n",
      "Fetched 8371 spins for 2022/5\n",
      "Fetched 5607 spins for 2022/4\n",
      "Fetched 2533 spins for 2022/3\n",
      "Fetched 950 spins for 2022/2\n",
      "Fetched 6539 spins for 2022/1\n",
      "Fetched 0 spins for 2021/12\n",
      "Fetched 0 spins for 2021/11\n",
      "Fetched 0 spins for 2021/10\n",
      "Fetched 0 spins for 2021/9\n",
      "Fetched 0 spins for 2021/8\n",
      "Fetched 0 spins for 2021/7\n",
      "Fetched 0 spins for 2021/6\n",
      "Fetched 0 spins for 2021/5\n",
      "Fetched 0 spins for 2021/4\n",
      "Fetched 0 spins for 2021/3\n",
      "Fetched 0 spins for 2021/2\n",
      "Fetched 0 spins for 2021/1\n"
     ]
    }
   ],
   "source": [
    "write_all_spins(\"spins.csv\")"
   ]
  }
 ],
 "metadata": {
  "kernelspec": {
   "display_name": ".venv",
   "language": "python",
   "name": "python3"
  },
  "language_info": {
   "codemirror_mode": {
    "name": "ipython",
    "version": 3
   },
   "file_extension": ".py",
   "mimetype": "text/x-python",
   "name": "python",
   "nbconvert_exporter": "python",
   "pygments_lexer": "ipython3",
   "version": "3.11.5"
  }
 },
 "nbformat": 4,
 "nbformat_minor": 2
}
